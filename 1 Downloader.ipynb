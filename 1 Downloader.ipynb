{
 "cells": [
  {
   "cell_type": "markdown",
   "metadata": {},
   "source": [
    "# Image Downloader"
   ]
  },
  {
   "cell_type": "code",
   "execution_count": 132,
   "metadata": {
    "collapsed": true
   },
   "outputs": [],
   "source": [
    "import os\n",
    "import socket\n",
    "import ssl # SSLError\n",
    "import sys\n",
    "import zlib\n",
    "\n",
    "%matplotlib inline\n",
    "import matplotlib.pyplot as plt\n",
    "from IPython.display import display\n",
    "from pyprind import ProgBar\n",
    "import pandas as pd \n",
    "\n",
    "from pymongo import MongoClient\n",
    "\n",
    "import requests # t SSLError\n",
    "import urllib.request, urllib.error, urllib.parse\n",
    "from urllib.parse import quote, unquote\n",
    "from urllib.error import URLError\n",
    "from urllib.parse import urlparse\n",
    "from urllib.request import urlopen, url2pathname"
   ]
  },
  {
   "cell_type": "code",
   "execution_count": 133,
   "metadata": {
    "collapsed": false
   },
   "outputs": [
    {
     "data": {
      "text/plain": [
       "['.DS_Store',\n",
       " 'http%3A%2F%2Fgraphics8.nytimes.com%2Fimages%2F2016%2F01%2F14%2Fus%2F14TRUMPweb1%2F14TRUMPweb1-thumbStandard.jpg',\n",
       " 'http%3A%2F%2Fgraphics8.nytimes.com%2Fimages%2F2016%2F01%2F20%2Fus%2F20firstdraft-Trump%2F20firstdraft-Trump-tmagArticle.jpg',\n",
       " 'http%3A%2F%2Fgraphics8.nytimes.com%2Fimages%2F2016%2F01%2F21%2Fus%2F21firstdraftnl-Trump%2F21firstdraftnl-Trump-tmagArticle.jpg',\n",
       " 'http%3A%2F%2Fgraphics8.nytimes.com%2Fimages%2F2016%2F01%2F22%2Fopinion%2FRFDClinton-denial%2FRFDClinton-denial-articleInline.jpg',\n",
       " 'http%3A%2F%2Fgraphics8.nytimes.com%2Fimages%2F2016%2F01%2F22%2Fus%2F22firstdraft-Trump2%2F22firstdraft-Trump2-tmagArticle.jpg',\n",
       " 'http%3A%2F%2Fgraphics8.nytimes.com%2Fimages%2F2016%2F01%2F27%2Fus%2F27firstdraft-newsletter%2F27firstdraft-newsletter-tmagArticle.jpg',\n",
       " 'http%3A%2F%2Fgraphics8.nytimes.com%2Fimages%2F2016%2F01%2F27%2Fus%2F27firstdraft-trump%2F27firstdraft-trump-tmagArticle.jpg',\n",
       " 'http%3A%2F%2Fgraphics8.nytimes.com%2Fimages%2F2016%2F01%2F27%2Fus%2F27firstdraft-trump2%2F27firstdraft-trump2-tmagArticle.jpg',\n",
       " 'http%3A%2F%2Fgraphics8.nytimes.com%2Fimages%2F2016%2F01%2F27%2Fus%2F27firstdraft-trump5%2F27firstdraft-trump5-tmagArticle.jpg']"
      ]
     },
     "execution_count": 133,
     "metadata": {},
     "output_type": "execute_result"
    }
   ],
   "source": [
    "# Checking we are in the correct directory\n",
    "download_dir = 'imgs'\n",
    "if not os.path.exists(download_dir):\n",
    "    os.mkdir(download_dir)\n",
    "os.listdir(download_dir)[:10]"
   ]
  },
  {
   "cell_type": "markdown",
   "metadata": {},
   "source": [
    "## Load cvs file containing urls "
   ]
  },
  {
   "cell_type": "markdown",
   "metadata": {},
   "source": [
    "Start by loading csv file into dataframe.  \n",
    "Make sure the image_urls file is in the current directory"
   ]
  },
  {
   "cell_type": "code",
   "execution_count": 134,
   "metadata": {
    "collapsed": false
   },
   "outputs": [],
   "source": [
    "#Load URL List\n",
    "df = pd.read_csv('test_images_urls.csv')\n",
    "image_urls = pd.Series(df['image_url']).dropna()"
   ]
  },
  {
   "cell_type": "markdown",
   "metadata": {},
   "source": [
    "## Filter out urls that are not images"
   ]
  },
  {
   "cell_type": "markdown",
   "metadata": {},
   "source": [
    "Filtering out all the lines that do not start by htt. "
   ]
  },
  {
   "cell_type": "code",
   "execution_count": 135,
   "metadata": {
    "collapsed": false
   },
   "outputs": [
    {
     "name": "stdout",
     "output_type": "stream",
     "text": [
      "Valid Urls starting with \"htt*\" 256 from a total of 306 in csv file.\n",
      "\n",
      "<class 'pandas.core.frame.DataFrame'>\n",
      "RangeIndex: 306 entries, 0 to 305\n",
      "Data columns (total 7 columns):\n",
      "media_source             304 non-null object\n",
      "pub_date                 293 non-null object\n",
      "image_url                294 non-null object\n",
      "image_width              32 non-null object\n",
      "image_height             31 non-null object\n",
      "mediacloud_stories_id    288 non-null float64\n",
      "story_url                288 non-null object\n",
      "dtypes: float64(1), object(6)\n",
      "memory usage: 16.8+ KB\n"
     ]
    }
   ],
   "source": [
    "urls = image_urls[ image_urls.str.startswith(\"htt\")]\n",
    "print(\"Valid Urls starting with \\\"htt*\\\" \" + str(len(urls)) + \n",
    "      \" from a total of \"+ str(len(df)) + \" in csv file.\\n\") \n",
    "df.info()"
   ]
  },
  {
   "cell_type": "markdown",
   "metadata": {},
   "source": [
    "Removing duplicated links since they must images that are logos, advertisements or other kinds of images that do not insterest us. We arbitrarely choose links that are repeated more than 10 times."
   ]
  },
  {
   "cell_type": "code",
   "execution_count": 136,
   "metadata": {
    "collapsed": false
   },
   "outputs": [
    {
     "data": {
      "image/png": "[encoded data removed]",
      "text/plain": [
       "<matplotlib.figure.Figure at 0x107c2aeb8>"
      ]
     },
     "metadata": {},
     "output_type": "display_data"
    }
   ],
   "source": [
    "fig = plt.figure()\n",
    "ax = fig.add_subplot(1,1,1)\n",
    "image_urls_counts = image_urls.value_counts()\n",
    "line, = ax.plot(image_urls_counts .values, color='blue', lw=2)\n",
    "ax.set_yscale('log')\n",
    "ax.set_ylabel(\"Log of Number of times repeated\")\n",
    "ax.set_xscale('log')\n",
    "ax.set_xlabel(\"Log of urls\")\n",
    "ax.set_title(\"Repeated links histogram\")\n",
    "plt.show()"
   ]
  },
  {
   "cell_type": "code",
   "execution_count": 137,
   "metadata": {
    "collapsed": false
   },
   "outputs": [
    {
     "name": "stdout",
     "output_type": "stream",
     "text": [
      "\n",
      "- First 10 values data ploted above: \n",
      "    [17 10  6  5  5  5  5  3  3  3]\n",
      "- Unique links: 212\n",
      "- Links found at most 10 times, should be photo:  211\n",
      "- Links found at least 10 times such as ads, spacers, logos: 1\n"
     ]
    }
   ],
   "source": [
    "print()\n",
    "print(\"- First 10 values data ploted above: \")\n",
    "print(\"    \" + str(image_urls_counts[:10].values))\n",
    "print(\"- Unique links:\", len(image_urls.dropna().unique())) \n",
    "print(\"- Links found at most 10 times, should be photo: \", \n",
    "      len(image_urls_counts [image_urls_counts<=10]))\n",
    "print(\"- Links found at least 10 times such as ads, spacers, logos:\",\n",
    "      len(image_urls_counts [image_urls_counts>10]))"
   ]
  },
  {
   "cell_type": "code",
   "execution_count": 138,
   "metadata": {
    "collapsed": false
   },
   "outputs": [
    {
     "name": "stdout",
     "output_type": "stream",
     "text": [
      "Remaining urls after we remove urls repeated 10 times:  239\n"
     ]
    }
   ],
   "source": [
    "#Remove Urls repeated more than 10 times\n",
    "val_counts = urls.value_counts()\n",
    "repetition_dict = {url:repeted for url,repeted in val_counts.iteritems()}\n",
    "url_list = [url for url in urls if repetition_dict[url] <= 10]\n",
    "urls = pd.Series(url_list)\n",
    "print(\"Remaining urls after we remove urls repeated 10 times: \", len(urls))"
   ]
  },
  {
   "cell_type": "markdown",
   "metadata": {},
   "source": [
    "The cell below is optional in case we already have downloaded partialy the images under the directory \"../images/img\" and want to keep downloading it."
   ]
  },
  {
   "cell_type": "code",
   "execution_count": 139,
   "metadata": {
    "collapsed": false
   },
   "outputs": [
    {
     "name": "stdout",
     "output_type": "stream",
     "text": [
      "Files downloaded: 176\n",
      "Remaining files to be downloaded: 47\n"
     ]
    }
   ],
   "source": [
    "# Optional cell, make sure the \"../images/img\" path exists\n",
    "# Remove files already loaded\n",
    "files =  os.listdir(download_dir)\n",
    "down_urls =  list(map(unquote, files))\n",
    "remaining = urls[~urls.isin(down_urls)] \n",
    "#print(urls.isin(down_urls).value_counts())\n",
    "#remaining = pd.read_csv('test.csv') # testing with a couple of files\n",
    "print(\"Files downloaded: \" + str(len(down_urls)))\n",
    "print(\"Remaining files to be downloaded: \" + str(len(remaining)))\n",
    "remaining = pd.Series(remaining)"
   ]
  },
  {
   "cell_type": "code",
   "execution_count": 140,
   "metadata": {
    "collapsed": false
   },
   "outputs": [
    {
     "name": "stdout",
     "output_type": "stream",
     "text": [
      "Remaining after unvalid extensions removed :47\n"
     ]
    }
   ],
   "source": [
    "#Removing unvalid extensions\n",
    "exts =  [os.path.splitext(p)[1] for p in remaining] #croping text before \".\"\n",
    "exts =  [ext.split('?')[0]  for ext in exts] #truncating text after extension\n",
    "exts =  [ext.split('&')[0]  for ext in exts] #truncating text after extension\n",
    "exts =  [ext.split('%')[0]  for ext in exts] #truncating text after extension\n",
    "valid = pd.Series(exts)\n",
    "img_remaining = remaining[list(valid.isin(['.jpg', '.gif' ,'.png', '.jpeg','.JPG']))] # what we keep\n",
    "print(\"Remaining after unvalid extensions removed :\" + str(len(remaining)))"
   ]
  },
  {
   "cell_type": "code",
   "execution_count": 141,
   "metadata": {
    "collapsed": false
   },
   "outputs": [
    {
     "data": {
      "text/plain": [
       "93     https://img.washingtonpost.com/wp-apps/imrs.ph...\n",
       "94     https://img.washingtonpost.com/wp-apps/imrs.ph...\n",
       "127    https://img.washingtonpost.com/rf/image_400w/2...\n",
       "174    https://img.washingtonpost.com/wp-apps/imrs.ph...\n",
       "184    http://static2.politico.com/dims4/default/431f...\n",
       "185    http://static2.politico.com/dims4/default/dc91...\n",
       "187    http://static2.politico.com/dims4/default/0bc6...\n",
       "188    http://static2.politico.com/dims4/default/dc91...\n",
       "190    http://static2.politico.com/dims4/default/3b5f...\n",
       "197    http://imagestage2.politico.com/global/2015/02...\n",
       "198    http://static2.politico.com/dims4/default/c460...\n",
       "201    http://static2.politico.com/dims4/default/e898...\n",
       "202    http://static2.politico.com/dims4/default/660a...\n",
       "203    http://static2.politico.com/dims4/default/4009...\n",
       "204    http://static2.politico.com/dims4/default/4fed...\n",
       "207    http://static2.politico.com/dims4/default/98cd...\n",
       "210    https://i.guim.co.uk/img/media/6fb6fe58c79b840...\n",
       "212    https://i.guim.co.uk/img/media/141d072f46fb0e2...\n",
       "213    https://i.guim.co.uk/img/media/fc444579a21fe7a...\n",
       "215    https://img.washingtonpost.com/wp-apps/imrs.ph...\n",
       "216    https://img.washingtonpost.com/wp-apps/imrs.ph...\n",
       "217    https://img.washingtonpost.com/wp-apps/imrs.ph...\n",
       "218    https://img.washingtonpost.com/wp-apps/imrs.ph...\n",
       "219    https://img.washingtonpost.com/wp-apps/imrs.ph...\n",
       "220    https://img.washingtonpost.com/wp-apps/imrs.ph...\n",
       "221    https://img.washingtonpost.com/wp-apps/imrs.ph...\n",
       "222    https://img.washingtonpost.com/wp-apps/imrs.ph...\n",
       "223    https://img.washingtonpost.com/wp-apps/imrs.ph...\n",
       "224    https://img.washingtonpost.com/wp-apps/imrs.ph...\n",
       "225    https://img.washingtonpost.com/wp-apps/imrs.ph...\n",
       "228    https://img.washingtonpost.com/wp-apps/imrs.ph...\n",
       "231    https://img.washingtonpost.com/wp-apps/imrs.ph...\n",
       "232    https://img.washingtonpost.com/wp-apps/imrs.ph...\n",
       "233    https://img.washingtonpost.com/wp-apps/imrs.ph...\n",
       "234    https://img.washingtonpost.com/wp-apps/imrs.ph...\n",
       "235    https://img.washingtonpost.com/wp-apps/imrs.ph...\n",
       "236    https://img.washingtonpost.com/wp-apps/imrs.ph...\n",
       "237    https://img.washingtonpost.com/wp-apps/imrs.ph...\n",
       "238    https://img.washingtonpost.com/wp-apps/imrs.ph...\n",
       "dtype: object"
      ]
     },
     "execution_count": 141,
     "metadata": {},
     "output_type": "execute_result"
    }
   ],
   "source": [
    "img_remaining"
   ]
  },
  {
   "cell_type": "markdown",
   "metadata": {},
   "source": [
    "##  Downloading images\n"
   ]
  },
  {
   "cell_type": "code",
   "execution_count": 142,
   "metadata": {
    "collapsed": false
   },
   "outputs": [
    {
     "name": "stderr",
     "output_type": "stream",
     "text": [
      "0%                          100%\n",
      "[####                          ] | ETA: 00:00:19 | Item ID: https://img.washingtonpost.com/rf/image_60x60/WashingtonPost/Content/Blogs/post-politics/201601/Images/2016-01-09T011541Z_01_RKH126_RTRIDSP_3_USA-ELECTIONS-"
     ]
    },
    {
     "name": "stdout",
     "output_type": "stream",
     "text": [
      "Timed out! The read operation timed out https://img.washingtonpost.com/rf/image_400w/2010-2019/Wires/Online/2016-01-05/AP/Images/GOP2016Trump-0c121.jpg?uuid=rOBCarPfEeWKvNCTku3GEg\n"
     ]
    },
    {
     "name": "stderr",
     "output_type": "stream",
     "text": [
      "[#####                         ] | ETA: 00:00:18 | Item ID: https://img.washingtonpost.com/rf/image_138x92/WashingtonPost/Content/Blogs/post-politics/201601/Images/2016-01-09T011541Z_01_RKH126_RTRIDSP_3_USA-ELECTIONS"
     ]
    },
    {
     "name": "stdout",
     "output_type": "stream",
     "text": [
      "URLError:    HTTP Error 403: Forbidden https://img.washingtonpost.com/rf/image_60x60/WashingtonPost/Content/Blogs/post-politics/201601/Images/2016-01-09T011541Z_01_RKH126_RTRIDSP_3_USA-ELECTIONS-\n"
     ]
    },
    {
     "name": "stderr",
     "output_type": "stream",
     "text": [
      "[#####                         ] | ETA: 00:00:17 | Item ID: http://feeds.washingtonpost.com/c/34656/f/636635/s/4cc12003/sc/7/l/0M0Swashingtonpost0N0Cpolitics0Ccourts0Ilaw0Cbattle0Eover0Eunions0Esignals0Esupreme0Ecourt0Erole0Eat0Ecenter0Eof0E"
     ]
    },
    {
     "name": "stdout",
     "output_type": "stream",
     "text": [
      "URLError:    HTTP Error 403: Forbidden https://img.washingtonpost.com/rf/image_138x92/WashingtonPost/Content/Blogs/post-politics/201601/Images/2016-01-09T011541Z_01_RKH126_RTRIDSP_3_USA-ELECTIONS\n"
     ]
    },
    {
     "name": "stderr",
     "output_type": "stream",
     "text": [
      "[#######                       ] | ETA: 00:00:15 | Item ID: http://static2.politico.com/dims4/default/431fb65/2147483647/resize/1160x%3E/quality/90/?url=http%3A%2F%2Fstatic.politico.com%2Fce%2F10%2F1f502ee04480a850d6aeef67fc37%2F20160128-donald-trump-sign-des-moines-gty-1160.jpg"
     ]
    },
    {
     "name": "stdout",
     "output_type": "stream",
     "text": [
      "URLError:    HTTP Error 404: Not Found http://feeds.washingtonpost.com/c/34656/f/636635/s/4cc12003/sc/7/l/0M0Swashingtonpost0N0Cpolitics0Ccourts0Ilaw0Cbattle0Eover0Eunions0Esignals0Esupreme0Ecourt0Erole0Eat0Ecenter0Eof0E\n"
     ]
    },
    {
     "name": "stderr",
     "output_type": "stream",
     "text": [
      "[###########                   ] | ETA: 00:00:09 | Item ID: http://static2.politico.com/dims4/default/e898b24/2147483647/resize/1160x%3E/quality/90/?url=http%3A%2F%2Fstatic.politico.com%2F64%2F9a%2F5f93971f4b4b910d3faa9311cd69%2F2016114-hillary-clinton-4-gty-1160.jpg"
     ]
    },
    {
     "name": "stdout",
     "output_type": "stream",
     "text": [
      "URLError:    <urlopen error [Errno 8] nodename nor servname provided, or not known> http://imagestage2.politico.com/global/2015/02/22/150222_poll_station_gty_629_90x49.jpg\n"
     ]
    },
    {
     "name": "stderr",
     "output_type": "stream",
     "text": [
      "[##############################] | ETA: 00:00:00 | Item ID: https://img.washingtonpost.com/wp-apps/imrs.php?src=http%3a%2f%2fs3.amazonaws.com%2fposttv-thumbnails-prod%2fthumbnails%2f55b90eb0e4b09ff16888ccab%2f20150729_RESTAURANTKIDS.jpg&w=1248&h=702\n",
      "Total time elapsed: 00:00:11\n"
     ]
    },
    {
     "name": "stdout",
     "output_type": "stream",
     "text": [
      "urlerros 4 timeouts 1 unfetchables 0 large names 18\n"
     ]
    }
   ],
   "source": [
    "# TODO: Download images with a minimum width or height\n",
    "bar = ProgBar(len(remaining), monitor=True)\n",
    "unfetchables = []\n",
    "timeouts = []\n",
    "urlerrors = []\n",
    "large_names = []\n",
    "\n",
    "for i, image_name in enumerate(remaining):\n",
    "    bar.update(item_id = image_name, force_flush=True)\n",
    "    img =  None\n",
    "    try:\n",
    "        img = urlopen(image_name, None, 0.5).read()\n",
    "    except (URLError, requests.exceptions.SSLError, ssl.SSLError) as e:\n",
    "        urlerrors.append((image_name,e))\n",
    "        print(\"URLError:   \",e ,image_name)\n",
    "        continue\n",
    "    except socket.timeout as e:\n",
    "        timeouts.append((image_name, e))\n",
    "        print(\"Timed out!\", e, image_name)\n",
    "        continue\n",
    "    except Exception as e:\n",
    "        unfetchables.append((image_name, e))\n",
    "        print(\"Unknow exception\", e, image_name)\n",
    "        continue\n",
    "    filename = quote(image_name, safe=\"\")\n",
    "    if len(filename) > 250:\n",
    "        large_names.append(filename)\n",
    "        filename = 'L' + filename[:250]\n",
    "        #print(\"Name too long\"+filename)\n",
    "    if img:\n",
    "        f = open(os.path.join(download_dir,filename),'wb')\n",
    "        f.write(img)\n",
    "        f.close()\n",
    "print(\"urlerros\", len(urlerrors), \"timeouts\", len(timeouts), \n",
    "      \"unfetchables\", len(unfetchables), \"large names\", len(large_names))"
   ]
  },
  {
   "cell_type": "code",
   "execution_count": 93,
   "metadata": {
    "collapsed": false
   },
   "outputs": [
    {
     "name": "stdout",
     "output_type": "stream",
     "text": [
      "0 0 0 0\n"
     ]
    }
   ],
   "source": [
    "print(len(urlerrors), len(timeouts), len(unfetchables), len(large_names))"
   ]
  },
  {
   "cell_type": "code",
   "execution_count": 94,
   "metadata": {
    "collapsed": false
   },
   "outputs": [
    {
     "data": {
      "text/plain": [
       "30"
      ]
     },
     "execution_count": 94,
     "metadata": {},
     "output_type": "execute_result"
    }
   ],
   "source": [
    "len(remaining)"
   ]
  },
  {
   "cell_type": "markdown",
   "metadata": {},
   "source": [
    "# Scratch Pad"
   ]
  },
  {
   "cell_type": "code",
   "execution_count": 95,
   "metadata": {
    "collapsed": false
   },
   "outputs": [
    {
     "name": "stdout",
     "output_type": "stream",
     "text": [
      "(70, 7) (70,) (47,) (45,)\n"
     ]
    }
   ],
   "source": [
    "# Discarting malformed Urls\n",
    "df = pd.read_csv('test_images_urls.csv')\n",
    "urls = df['image_url'].dropna()\n",
    "malformed = urls[ urls.str.contains(\"img.youtube.com\")]\n",
    "malformed_urls =  urls[ urls.str.startswith(\"htt\")]\n",
    "print(df.shape, urls.shape, urls.unique().shape, malformed_urls.unique().shape)"
   ]
  },
  {
   "cell_type": "code",
   "execution_count": 96,
   "metadata": {
    "collapsed": false
   },
   "outputs": [
    {
     "name": "stdout",
     "output_type": "stream",
     "text": [
      "(70, 7)\n",
      "** width **\n",
      "count       5\n",
      "unique      2\n",
      "top       592\n",
      "freq        3\n",
      "Name: image_width, dtype: object\n",
      "** height **\n",
      "count                   5\n",
      "unique                  4\n",
      "top       #{img_height}px\n",
      "freq                    2\n",
      "Name: image_height, dtype: object\n",
      "rows_with_width 5\n",
      "rows_with_height 5\n",
      "rows_with_height and rows_with_height 5\n"
     ]
    }
   ],
   "source": [
    "#Checking images height and width\n",
    "import pandas as pd\n",
    "d = pd.read_csv('test_images_urls.csv')\n",
    "print(d.shape)\n",
    "print(\"** width **\")\n",
    "print(d['image_width'].describe())\n",
    "print(\"** height **\")\n",
    "print(d['image_height'].describe())\n",
    "rows_with_width = [ r for r, v in enumerate(d['image_width'].notnull()) if v]\n",
    "rows_with_height = [ r for r, v in enumerate(d['image_height'].notnull()) if v]\n",
    "print(\"rows_with_width\", len(rows_with_width))\n",
    "print(\"rows_with_height\", len(rows_with_height))\n",
    "print(\"rows_with_height and rows_with_height\",len(set(rows_with_width+rows_with_height)))"
   ]
  },
  {
   "cell_type": "markdown",
   "metadata": {},
   "source": [
    "### Checking Extension Distrubition\n"
   ]
  },
  {
   "cell_type": "code",
   "execution_count": 97,
   "metadata": {
    "collapsed": false
   },
   "outputs": [
    {
     "data": {
      "text/plain": [
       ".jpg    32\n",
       ".png    27\n",
       ".gif     4\n",
       ".svg     3\n",
       ".php     2\n",
       "         2\n",
       "dtype: int64"
      ]
     },
     "execution_count": 97,
     "metadata": {},
     "output_type": "execute_result"
    }
   ],
   "source": [
    "d = pd.read_csv('test_images_urls.csv')\n",
    "paths = [ urlparse(name).path for name in d['image_url'].dropna()]\n",
    "exts =  [os.path.splitext(p)[1] for p in paths]\n",
    "ext = pd.Series(exts, dtype='category')\n",
    "ext.unique()\n",
    "ext.value_counts()\n",
    "#len(ext)"
   ]
  },
  {
   "cell_type": "markdown",
   "metadata": {},
   "source": [
    "### Duplicate Name Handling "
   ]
  },
  {
   "cell_type": "code",
   "execution_count": 98,
   "metadata": {
    "collapsed": false
   },
   "outputs": [
    {
     "data": {
      "text/plain": [
       "(5,)"
      ]
     },
     "execution_count": 98,
     "metadata": {},
     "output_type": "execute_result"
    }
   ],
   "source": [
    "# unquoting image names\n",
    "urls = df['image_url'].dropna()\n",
    "files = [ f for f in os.listdir(download_dir)]\n",
    "down_urls =  map(unquote, files)\n",
    "remaining = urls[~urls.isin(down_urls)]\n",
    "remaining.shape"
   ]
  },
  {
   "cell_type": "markdown",
   "metadata": {},
   "source": [
    "### Handling urls to be valid filenames for the images"
   ]
  },
  {
   "cell_type": "code",
   "execution_count": 79,
   "metadata": {
    "collapsed": false
   },
   "outputs": [
    {
     "name": "stdout",
     "output_type": "stream",
     "text": [
      "http://static01.nyt.com/images/2015/11/20/us/why-it-takes-two-years-for-syrian-refugees-to-apply-to-enter-the-united-states-1448050604249/why-it-takes-two-years-for-syrian-refugees-to-apply-to-enter-the-united-states-1448050604249-master495-v5.png\n",
      "http%253A%252F%252Fstatic01.nyt.com%252Fimages%252F2015%252F11%252F20%252Fus%252Fwhy-it-takes-two-years-for-syrian-refugees-to-apply-to-enter-the-united-states-1448050604249%252Fwhy-it-takes-two-years-for-syrian-refugees-to-apply-to-enter-the-united-states-1448050604249-master495-v5.png\n"
     ]
    },
    {
     "data": {
      "text/plain": [
       "('http://static01.nyt.com/images/2015/11/20/us/why-it-takes-two-years-for-syrian-refugees-to-apply-to-enter-the-united-states-1448050604249/why-it-takes-two-years-for-syrian-refugees-to-apply-to-enter-the-united-states-1448050604249-master495-v5.png',\n",
       " b'x\\x9c\\xb5\\x8dQ\\x0e\\x830\\x0cCOd\\xd2\\xa2v\\x1a\\xbbM\\xb4\\x05\\xa86\\xda\\xaa\\tC\\xbd\\xfd\\xe0\\x10\\xfb\\xf2\\x93\\xfcd\\xaff\\xf5A\\xa4\\xc6\\x96\\x9e\\xce\\x0f\\xb9\\xdb\\xf0,\\x1b\\xa5\\x8d\\x17Q\\x1a\\x9d\\x8f\\xe4\\xfd\\x99\\xb4+\\x1dkG2\\x18\\xbfEaGA\\x17n\\x8a\\xb94ho\\x893\\x9a\\xcc\\xfb\"W[\\xc0\\xb5~\\xfa\\x05\\x92M\\x1al\\x15\\xec9\\x99\\xbcp\\xbd\\x9d\\x8e\\x0f\\xe1\\xee\\xa2\\xbb\\xb90\\x86\\xe9\\xaf\\xe3\\xd8XO-L\\x11\\xdf8\\xd4\\xbc\\xfc\\x00\\xb5|Ua',\n",
       " b'eJy1jVEOgzAMQ09k0qJ2GrtNtAWoNtqqCUO9_eAQ-_KT_GSvZvVBpMaWns4PudvwLBuljRdRGp2P5P2ZtCsda0cyGL9FYUdBF26KuTRob4kzmsz7IldbwLV--gWSTRpsFew5mbxwvZ2OD-Huoru5MIbpr-PYWE8tTBHfONS8_AC1fFVh',\n",
       " 247,\n",
       " 132,\n",
       " 176)"
      ]
     },
     "execution_count": 79,
     "metadata": {},
     "output_type": "execute_result"
    }
   ],
   "source": [
    "#%ls \n",
    "#name = 'http://static01.nyt.com/images/2014/11/12/opinion/krugman-circular/krugman-circular-thumbLarge-v4.png'\n",
    "name = 'http%3A%2F%2Fstatic01.nyt.com%2Fimages%2F2015%2F11%2F20%2Fus%2Fwhy-it-takes-two-years-for-syrian-refugees-to-apply-to-enter-the-united-states-1448050604249%2Fwhy-it-takes-two-years-for-syrian-refugees-to-apply-to-enter-the-united-states-1448050604249-master495-v5.png'\n",
    "real_name = unquote(name)\n",
    "url2 = url2pathname(name)\n",
    "url_quote = quote(name, safe=\"\")\n",
    "print(url2)\n",
    "print(url_quote)\n",
    "#f = open('img/'+ url_quote, 'wb')\n",
    "#f = open(\"img/test\", 'wb')\n",
    "\n",
    "import base64\n",
    "a = real_name\n",
    "b = zlib.compress(real_name.encode(\"utf-8\"))\n",
    "c = base64.urlsafe_b64encode(zlib.compress(real_name.encode(\"utf-8\")))\n",
    "\n",
    "a,b,c,len(a),len(b),len(c)\n",
    "# crop_index = 255 - len(urlsafe_base64encode(zlib encode))) \n",
    "# name = quote_name(file_name)[crop_index:]+ safeseparator + encoded name"
   ]
  }
 ],
 "metadata": {
  "kernelspec": {
   "display_name": "Python 3",
   "language": "python",
   "name": "python3"
  },
  "language_info": {
   "codemirror_mode": {
    "name": "ipython",
    "version": 3
   },
   "file_extension": ".py",
   "mimetype": "text/x-python",
   "name": "python",
   "nbconvert_exporter": "python",
   "pygments_lexer": "ipython3",
   "version": "3.5.1"
  }
 },
 "nbformat": 4,
 "nbformat_minor": 0
}
