{
 "cells": [
  {
   "cell_type": "code",
   "execution_count": 1,
   "metadata": {
    "collapsed": true
   },
   "outputs": [],
   "source": [
    "# Image Weeder"
   ]
  },
  {
   "cell_type": "markdown",
   "metadata": {},
   "source": [
    "Once we have remove the images we weed out the ones that do not seem to be photographs or are too small."
   ]
  },
  {
   "cell_type": "markdown",
   "metadata": {},
   "source": [
    "TODO\n",
    "- Compare with Microsoft Cognitive Services ?\n",
    "- Work on black background edge case."
   ]
  },
  {
   "cell_type": "code",
   "execution_count": 2,
   "metadata": {
    "collapsed": false
   },
   "outputs": [],
   "source": [
    "import os\n",
    "from PIL import Image\n",
    "import shutil\n",
    "from IPython import display"
   ]
  },
  {
   "cell_type": "code",
   "execution_count": 3,
   "metadata": {
    "collapsed": false
   },
   "outputs": [
    {
     "data": {
      "text/plain": [
       "['.git', '.idea', '.ipynb_checkpoints', 'docs', 'imgs', 'test_images']"
      ]
     },
     "execution_count": 3,
     "metadata": {},
     "output_type": "execute_result"
    }
   ],
   "source": [
    "# Check what the directories exist in \".\"\n",
    "[name for name in os.listdir(\".\") if os.path.isdir(name)]"
   ]
  },
  {
   "cell_type": "code",
   "execution_count": 4,
   "metadata": {
    "collapsed": false
   },
   "outputs": [],
   "source": [
    "# Directories where we will sort the images\n",
    "download_dir = \"imgs/\"\n",
    "medium_img_dir = download_dir + \"medium_img/\"\n",
    "too_small_img_dir = download_dir + \"too_small_img/\"\n",
    "photo_img_dir = download_dir + \"photo_img/\"\n",
    "drawing_img_dir = download_dir + \"drawing_img/\"\n",
    "dirs = [medium_img_dir, too_small_img_dir, photo_img_dir, drawing_img_dir]"
   ]
  },
  {
   "cell_type": "code",
   "execution_count": 5,
   "metadata": {
    "collapsed": false
   },
   "outputs": [],
   "source": [
    "# Create directories if they don't exist\n",
    "for dir in dirs:\n",
    "    if not os.path.exists(dir):\n",
    "        os.makedirs(dir)\n",
    "\n",
    "if not os.path.exists(too_small_img_dir):\n",
    "    os.makedirs(too_small_img_dir)\n"
   ]
  },
  {
   "cell_type": "code",
   "execution_count": 6,
   "metadata": {
    "collapsed": false
   },
   "outputs": [
    {
     "name": "stdout",
     "output_type": "stream",
     "text": [
      "sorting images from imgs/ to imgs/medium_img/ and imgs/too_small_img/\n",
      "Could not open photo cannot identify image file 'imgs/http%3A%2F%2Fmw2.wsj.net%2Fpublic%2Fsvg%2Ficons%2Fico-facebook-white.svg'\n",
      "Could not open photo cannot identify image file 'imgs/http%3A%2F%2Fmw2.wsj.net%2Fpublic%2Fsvg%2Ficons%2Fico-twitter-white.svg'\n",
      "download_dir  202 medium_img_dir 126 too_small_img_dir 71\n"
     ]
    }
   ],
   "source": [
    "# Filter out images smaller than 100 pixels\n",
    "files = [ ] \n",
    "for f in os.listdir(download_dir):\n",
    "    if f != \".DS_Store\" and not os.path.isdir(download_dir+f):\n",
    "        files.append(f)\n",
    "print(\"sorting images from \" + download_dir + \" to \" +\n",
    "      medium_img_dir + \" and \" + too_small_img_dir )\n",
    "for file in files:\n",
    "    try:\n",
    "        img = Image.open(download_dir+file)\n",
    "    except Exception as e:\n",
    "        print(\"Could not open photo\", e)\n",
    "    if img.width > 100 or img.height > 100:\n",
    "        shutil.copyfile(download_dir+file, medium_img_dir+file)\n",
    "    else:\n",
    "        shutil.copyfile(download_dir+file, too_small_img_dir+file)\n",
    "print(\"download_dir \" , len(os.listdir(download_dir)) , \n",
    "      \"medium_img_dir\" , len(os.listdir(medium_img_dir)),\n",
    "      \"too_small_img_dir\" , len(os.listdir(too_small_img_dir)))"
   ]
  },
  {
   "cell_type": "code",
   "execution_count": 7,
   "metadata": {
    "collapsed": true
   },
   "outputs": [],
   "source": [
    "# Filter iout mages > 4 MB ( Microsoft doesn't accept images > $MB)"
   ]
  },
  {
   "cell_type": "code",
   "execution_count": 8,
   "metadata": {
    "collapsed": false
   },
   "outputs": [
    {
     "name": "stdout",
     "output_type": "stream",
     "text": [
      "could not open photo cannot identify image file 'imgs/medium_img/http%3A%2F%2Fmw2.wsj.net%2Fpublic%2Fsvg%2Ficons%2Fico-facebook-white.svg'\n",
      "could not open photo cannot identify image file 'imgs/medium_img/http%3A%2F%2Fmw2.wsj.net%2Fpublic%2Fsvg%2Ficons%2Fico-twitter-white.svg'\n"
     ]
    }
   ],
   "source": [
    "# Filter out images that have too many repeated colors\n",
    "# From http://stackoverflow.com/questions/9354744/how-to-detect-if-an-image-is-a-photo-clip-art-or-a-line-drawing\n",
    "from PIL import Image\n",
    "medium_files = [ f for f in os.listdir(medium_img_dir)]\n",
    "color_ratios = []\n",
    "for file in medium_files:\n",
    "    try:\n",
    "        img = Image.open(medium_img_dir+file)\n",
    "    except Exception as e:\n",
    "        print(\"could not open photo\", e)\n",
    "    #img = Image.open(file)\n",
    "    img.thumbnail((200, 200), Image.ANTIALIAS)\n",
    "    w, h = img.size\n",
    "    colors = img.convert('RGB').getcolors(w*h)\n",
    "    most_repeated_colors = sorted(colors, key=lambda x: x[0], reverse=True)\n",
    "    repeated_colors_ratio = sum([x[0] for x in most_repeated_colors[:10]])/float(w*h)\n",
    "    color_ratios.append(repeated_colors_ratio)\n",
    "    if repeated_colors_ratio > 0.3:\n",
    "        shutil.copyfile(medium_img_dir+file, drawing_img_dir+file)\n",
    "    else:\n",
    "        shutil.copyfile(medium_img_dir+file, photo_img_dir+file)\n",
    "    "
   ]
  },
  {
   "cell_type": "code",
   "execution_count": 9,
   "metadata": {
    "collapsed": false
   },
   "outputs": [
    {
     "name": "stdout",
     "output_type": "stream",
     "text": [
      "medium_img_dir 126 photo_img_dir  107 drawing_img_dir 19\n"
     ]
    }
   ],
   "source": [
    "# Checking how the images where distributed\n",
    "print(\"medium_img_dir\" , len(os.listdir(medium_img_dir)),\n",
    "      \"photo_img_dir \" , len(os.listdir(photo_img_dir)) , \n",
    "      \"drawing_img_dir\" , len(os.listdir(drawing_img_dir)))"
   ]
  },
  {
   "cell_type": "code",
   "execution_count": 10,
   "metadata": {
    "collapsed": false
   },
   "outputs": [
    {
     "data": {
      "image/png": "[encoded data removed]",
      "text/plain": [
       "<matplotlib.figure.Figure at 0x104a79550>"
      ]
     },
     "metadata": {},
     "output_type": "display_data"
    }
   ],
   "source": [
    "# What the distribution of colors looks like.\n",
    "import matplotlib.pyplot as plt\n",
    "%matplotlib inline\n",
    "fig = plt.figure()\n",
    "ax = fig.add_subplot(1,1,1)\n",
    "repeated_colors = [x[0] for x in most_repeated_colors]\n",
    "line, = ax.plot(repeated_colors, color='blue', lw=2)\n",
    "ax.set_yscale('log')\n",
    "ax.set_ylabel(\"Number of times repeated\")\n",
    "ax.set_xscale('log')\n",
    "ax.set_xlabel(\"urls\")\n",
    "plt.show()"
   ]
  },
  {
   "cell_type": "code",
   "execution_count": null,
   "metadata": {
    "collapsed": true
   },
   "outputs": [],
   "source": []
  }
 ],
 "metadata": {
  "anaconda-cloud": {},
  "kernelspec": {
   "display_name": "Python 3",
   "language": "python",
   "name": "python3"
  },
  "language_info": {
   "codemirror_mode": {
    "name": "ipython",
    "version": 3
   },
   "file_extension": ".py",
   "mimetype": "text/x-python",
   "name": "python",
   "nbconvert_exporter": "python",
   "pygments_lexer": "ipython3",
   "version": "3.5.1"
  }
 },
 "nbformat": 4,
 "nbformat_minor": 0
}
